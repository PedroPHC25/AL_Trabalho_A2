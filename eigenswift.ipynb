{
 "cells": [
  {
   "cell_type": "markdown",
   "metadata": {},
   "source": [
    "# Aplicando eigenfaces para reconhecimento facial"
   ]
  },
  {
   "cell_type": "markdown",
   "metadata": {},
   "source": [
    "Feita a explicação teórica, vamos à aplicação prática. Nesse projeto, temos 20 imagens do artista William Smith e outras 20 da cantora Taylor Swift. Nosso objetivo é verificar se o método de eigenfaces é capaz de distingui-los e indentificá-los.  \n",
    "Inicialmente, importamos as bibliotecas necessárias."
   ]
  },
  {
   "cell_type": "code",
   "execution_count": null,
   "metadata": {},
   "outputs": [],
   "source": [
    "import numpy as np\n",
    "import pandas as pd\n",
    "import matplotlib.pyplot as plt\n",
    "import cv2\n",
    "import os"
   ]
  },
  {
   "cell_type": "markdown",
   "metadata": {},
   "source": [
    "Para que o método funcione, é necessário que todas as imagens possuam as mesmas dimensões. Dessa forma, optamos por figuras de tamanho 195x231."
   ]
  },
  {
   "cell_type": "code",
   "execution_count": null,
   "metadata": {},
   "outputs": [],
   "source": [
    "altura_imagem = 231\n",
    "comprimento = 195"
   ]
  },
  {
   "cell_type": "markdown",
   "metadata": {},
   "source": [
    "A seguir, fizemos a leituras das imagens e as convertemos em uma matriz tridimensional (cada imagem é uma matriz bidimensional e sua composição adiciona uma terceira dimensão)."
   ]
  },
  {
   "cell_type": "code",
   "execution_count": null,
   "metadata": {},
   "outputs": [],
   "source": [
    "# Criando o path para onde as imagens estão\n",
    "famousim = \"imagens_artistas/\"\n",
    "# Criando uma lista para adicionar as imagens\n",
    "famous_images = []\n",
    "\n",
    "# Fazendo um loop for para iterar sobre todas as imagens\n",
    "for folder in (os.listdir(famousim)):\n",
    "    folder_path = os.path.join(famousim, folder)\n",
    "    for image in (os.listdir(folder_path)):\n",
    "        # Adicionando o path com cada imagem para termos o arquivo das imagens\n",
    "        path = os.path.join(famousim, folder ,image)\n",
    "        # Lendo a imagem\n",
    "        img = cv2.imread(path)\n",
    "        # Convertendo a imagem para preto e branco \n",
    "        img = cv2.cvtColor(img, cv2.COLOR_BGR2GRAY)\n",
    "        # Adicionando a imagem na lista\n",
    "        famous_images.append(img)\n",
    "\n",
    "# Transformando a lista num array\n",
    "famous_images_np = np.array(famous_images)"
   ]
  },
  {
   "cell_type": "markdown",
   "metadata": {},
   "source": [
    "Vamos dar uma olhada nas nossas imagens."
   ]
  },
  {
   "cell_type": "code",
   "execution_count": null,
   "metadata": {},
   "outputs": [],
   "source": [
    "# Plotando as imagens\n",
    "count = 0\n",
    "fig, ax = plt.subplots(5, 8, figsize=(10, 10))\n",
    "for linha in range(5):\n",
    "    for coluna in range(8):\n",
    "        ax[linha,coluna].imshow(famous_images_np[count], cmap='gray')\n",
    "        count += 1\n",
    "        ax[linha, coluna].set_xticks([])\n",
    "        ax[linha, coluna].set_yticks([])\n",
    "        ax[linha, coluna].set_xticklabels([])\n",
    "        ax[linha, coluna].set_yticklabels([])\n",
    "        ax[linha, coluna].set_xlabel('')\n",
    "        ax[linha, coluna].set_ylabel('')"
   ]
  },
  {
   "cell_type": "markdown",
   "metadata": {},
   "source": [
    "Agora, transformamos essa matriz tridimensional em uma matriz bidimensional convertendo as matrizes de cada imagem para um único vetor-linha extremamente comprido. Após isso, calculamos a face média."
   ]
  },
  {
   "cell_type": "code",
   "execution_count": null,
   "metadata": {},
   "outputs": [],
   "source": [
    "# Cada imagem está armazenada em 3 dimensões, cada foto está numa lista, e cada lista é uma lista de listas.\n",
    "# Vamos transformar a imagem num vetor coluna muito grande.\n",
    "train_famous_np_matrix = famous_images_np.reshape(famous_images_np.shape[0], famous_images_np.shape[1]*famous_images_np.shape[2])\n",
    "# Calculamos a face média\n",
    "mean_train_face = np.mean(train_famous_np_matrix, axis=0)\n",
    "# Criamos uma matriz subtraindo a face média\n",
    "centered_train_face = train_famous_np_matrix - mean_train_face\n",
    "\n",
    "# Mostrando a face média\n",
    "plt.figure()\n",
    "plt.imshow(mean_train_face.reshape(altura_imagem,comprimento), cmap='gray')\n"
   ]
  },
  {
   "cell_type": "markdown",
   "metadata": {},
   "source": [
    "A seguir, calculamos a decomposição SVD dessa matriz."
   ]
  },
  {
   "cell_type": "code",
   "execution_count": null,
   "metadata": {},
   "outputs": [],
   "source": [
    "# Decompomdo a matriz em SVD\n",
    "U_Face_Famous, D_Face_Famous, V_Face_Famous = np.linalg.svd(centered_train_face, full_matrices=False)"
   ]
  },
  {
   "cell_type": "markdown",
   "metadata": {},
   "source": [
    "Vamos selecionar as 12 primeiras componentes principais e plotar suas eigenfaces."
   ]
  },
  {
   "cell_type": "code",
   "execution_count": null,
   "metadata": {},
   "outputs": [],
   "source": [
    "# Vamos obter a quantidade de componentes que queremos de nossa matriz.\n",
    "C_Faces_TRAIN = V_Face_Famous[:12]\n",
    "eigen_faces_train = C_Faces_TRAIN.reshape((-1, altura_imagem, comprimento))"
   ]
  },
  {
   "cell_type": "code",
   "execution_count": null,
   "metadata": {},
   "outputs": [],
   "source": [
    "count = 0\n",
    "fig, ax = plt.subplots(3, 4, figsize=(10, 10))\n",
    "for linha in range(3):\n",
    "    for coluna in range(4):\n",
    "        ax[linha,coluna].imshow(eigen_faces_train[count], cmap='gray')\n",
    "        count += 1\n",
    "        ax[linha, coluna].set_xticks([])\n",
    "        ax[linha, coluna].set_yticks([])\n",
    "        ax[linha, coluna].set_xticklabels([])\n",
    "        ax[linha, coluna].set_yticklabels([])\n",
    "        ax[linha, coluna].set_xlabel('')\n",
    "        ax[linha, coluna].set_ylabel('')"
   ]
  },
  {
   "cell_type": "markdown",
   "metadata": {},
   "source": [
    "Vamos dar uma olhada em nossas imagens agora centralizadas (subtraídas a média)."
   ]
  },
  {
   "cell_type": "code",
   "execution_count": null,
   "metadata": {},
   "outputs": [],
   "source": [
    "count = 0\n",
    "fig, ax = plt.subplots(5, 8, figsize=(10, 10))\n",
    "for linha in range(5):\n",
    "    for coluna in range(8):\n",
    "        ax[linha,coluna].imshow(centered_train_face[count].reshape(altura_imagem,comprimento), cmap='gray')\n",
    "        count += 1\n",
    "        ax[linha, coluna].set_xticks([])\n",
    "        ax[linha, coluna].set_yticks([])\n",
    "        ax[linha, coluna].set_xticklabels([])\n",
    "        ax[linha, coluna].set_yticklabels([])\n",
    "        ax[linha, coluna].set_xlabel('')\n",
    "        ax[linha, coluna].set_ylabel('')"
   ]
  },
  {
   "cell_type": "markdown",
   "metadata": {},
   "source": [
    "A seguir, vamos analisar a variância cumulativa das 40 componentes principais. Desse modo, podemos considerar apenas as mais relevantes a fim de simplificar a análise do dado."
   ]
  },
  {
   "cell_type": "code",
   "execution_count": null,
   "metadata": {},
   "outputs": [],
   "source": [
    "# O quanto cada autovalor representa do dado?\n",
    "\n",
    "# Somando todos os autovalores\n",
    "sum_all = sum(D_Face_Famous)\n",
    "# Transformando o array com os autovalores numa soma cumulativa\n",
    "cummulative = np.cumsum(D_Face_Famous).round(2)\n",
    "# Vendo quanto representa do total\n",
    "percentage = cummulative/sum_all\n",
    "\n",
    "# Plotando o gráfico\n",
    "plt.bar(range(len(percentage)), percentage, color='blue', alpha=0.7)\n",
    "plt.title(\"Gráfico de variância por quantidade de PCA's\")\n",
    "plt.xlabel(\"Quantidade de PCA's\")\n",
    "plt.ylabel(\"% de explicação do dado\")\n"
   ]
  },
  {
   "cell_type": "markdown",
   "metadata": {},
   "source": [
    "Podemos observar que as 20 primeiras componentes, ou seja, metade do conjunto, é capaz de representar aproximadamente 70% do dado. No entanto, para fins lúdicos, utilizaremos a seguir apenas as 2 primeiras a fim de ser possível plotá-las em um gráfico. Apesar de não serem tão precisas, elas já representam 15% da variação do dado, sendo suficiente para nosso propósito."
   ]
  },
  {
   "cell_type": "code",
   "execution_count": null,
   "metadata": {},
   "outputs": [],
   "source": [
    "\n",
    "# Nossa ideia agora, será pegar os dois principais componentes encontradas pelo PCA e então plotar as nossas imagens nesse subespaço\n",
    "dois_maiores_PCAs = V_Face_Famous[:2]\n",
    "\n",
    "# Criando a lista o qual terão as coordenadas das imagens que já trainamos o nosso dado\n",
    "coordinates = []\n",
    "\n",
    "# Fazendo um loop for para adicionar todas as imagens nessa lista\n",
    "for img in centered_train_face:\n",
    "    # Fazendo o produto interno para achar a projeção de cada face no espaço das duas principais componentes.\n",
    "    coordinates_xy = np.dot(dois_maiores_PCAs, img)\n",
    "    # Adicionando na lista\n",
    "    coordinates.append(coordinates_xy)\n"
   ]
  },
  {
   "cell_type": "markdown",
   "metadata": {},
   "source": [
    "Portanto, chequemos a distribuição do dado a partir dessas duas componentes principais. No gráfico abaixo, os pontos vermelhos representam as imagens da Taylor Swift, enquanto que os azuis representam as do Will Smith."
   ]
  },
  {
   "cell_type": "code",
   "execution_count": null,
   "metadata": {},
   "outputs": [],
   "source": [
    "# Colocando uma lista de cores para diferenciar taylor swift e will smith\n",
    "colors = []\n",
    "iteracao = 1\n",
    "\n",
    "for number in range(len(coordinates)):\n",
    "    if iteracao <= 20:\n",
    "        colors.append(\"red\")\n",
    "        iteracao += 1\n",
    "    elif iteracao <= 40:\n",
    "        colors.append(\"blue\")\n",
    "        iteracao += 1\n",
    "\n",
    "coordinates = np.array(coordinates).T\n",
    "\n",
    "x_line = np.linspace(-8000, 8000, 100)\n",
    "y_line = -0.55*x_line - 700\n",
    "\n",
    "plt.scatter(coordinates[0], coordinates[1], c=colors)\n",
    "plt.plot(x_line, y_line, color = \"black\")\n",
    "plt.show()\n",
    "\n",
    "# Redefinindo as coordenadas para o próximo gráfico\n",
    "coordinates = []\n",
    "for img in centered_train_face:\n",
    "    coordinates_xy = np.dot(dois_maiores_PCAs, img)\n",
    "    coordinates.append(coordinates_xy)"
   ]
  },
  {
   "cell_type": "markdown",
   "metadata": {},
   "source": [
    "Apesar da baixa acurácia fornecida apenas por 2 componentes, obtemos uma distribuição relativamente distinguível, com apenas alguns pontos em posições incorretas.  \n",
    "Agora, vamos brincar um pouco e testar algumas imagens de fora da base para ver onde elas serão colocadas nessa distribuição. Testaremos outras imagens da própria Taylor Swift e do próprio Will Smith, além de outras 4 celebridades.  \n",
    "Em cada um dos gráficos abaixo, o ponto preto representa a nova imagem. Lembrando que os pontos vermelhos representam a Taylor Swift e os azuis o Will Smith."
   ]
  },
  {
   "cell_type": "code",
   "execution_count": null,
   "metadata": {},
   "outputs": [],
   "source": [
    "# Agora que já temos os dados dos elementos que plotamos, vamos tentar pegar imagens que não foram utilizadas e então plotar no nosso espaço para determinar se a pessoa é mais parecida com o will smith ou com a talor swift.\n",
    "\n",
    "# Adicionando o path\n",
    "training_set = \"imagens_datateste/\"\n",
    "\n",
    "# criando um dicionário que terá o nome das pessoas e as coordenadas\n",
    "coordinates_new_dict = {}\n",
    "\n",
    "# Iterando sobre cada imagem da pasta\n",
    "for image_name in os.listdir(training_set):\n",
    "    # Pegando o caminho até ela\n",
    "    image_path = os.path.join(training_set, image_name)\n",
    "\n",
    "    # Realizando procedimentos pra ler a imagem\n",
    "    img = cv2.imread(image_path)\n",
    "    # Transformando num cinza\n",
    "    img = cv2.cvtColor(img, cv2.COLOR_BGR2GRAY)\n",
    "    # Transformando em array\n",
    "    img = np.array(img)\n",
    "    # transformando num array unidimensional\n",
    "    img = img.flatten()\n",
    "    # retirando a imagem nova\n",
    "    img = img - mean_train_face\n",
    "\n",
    "    # Fazendo o produto interno para achar a projeção no espaço que queremos\n",
    "    coordinates_new = np.dot(dois_maiores_PCAs, img)\n",
    "\n",
    "    # Colocando as coordenadas num dicionário\n",
    "    coordinates_new_dict[str(image_name[0:-4])] = coordinates_new\n",
    "\n",
    "\n",
    "# Colocando uma lista de cores para diferenciar taylor swift e will smith\n",
    "colors = []\n",
    "iteracao = 1\n",
    "\n",
    "for number in range(len(coordinates)):\n",
    "    if iteracao <= 20:\n",
    "        colors.append(\"red\")\n",
    "        iteracao += 1\n",
    "    elif iteracao <= 40:\n",
    "        colors.append(\"blue\")\n",
    "        iteracao += 1\n",
    "\n",
    "# Definindo a cor do teste\n",
    "colors.append(\"black\")\n"
   ]
  },
  {
   "cell_type": "code",
   "execution_count": null,
   "metadata": {},
   "outputs": [],
   "source": [
    "\n",
    "# Criando um grid plot com as pessoas\n",
    "fig, axes = plt.subplots(3, 2, figsize=(10, 8))\n",
    "axes = axes.flatten()\n",
    "\n",
    "# Criando um loop para iterar sobre cada plot\n",
    "for i, (name, values) in enumerate(coordinates_new_dict.items()):\n",
    "    ax = axes[i]\n",
    "    \n",
    "    ax.set_title(str(name)[1:])\n",
    "\n",
    "    # criando uma cópia das coordenadas\n",
    "    temp_coordinates = coordinates.copy()\n",
    "    \n",
    "    # colocando as coordenadas que estão no dicionário na lista\n",
    "    temp_coordinates.append(values)\n",
    "    \n",
    "    # Transformando em array e transpondo a matriz\n",
    "    temp_coordinates = np.array(temp_coordinates).T\n",
    "    \n",
    "    # Fazendo o scatter plot\n",
    "    ax.scatter(temp_coordinates[0], temp_coordinates[1], c=colors)\n",
    "    x_line = np.linspace(-8000, 8000, 100)\n",
    "    y_line = -0.55*x_line - 700\n",
    "\n",
    "    ax.plot(x_line, y_line, color = \"black\")\n",
    "\n",
    "    axes[i].set_xticks([])\n",
    "    axes[i].set_yticks([])\n",
    "    axes[i].set_xticklabels([])\n",
    "    axes[i].set_yticklabels([])\n",
    "    axes[i].set_xlabel('PC1')\n",
    "    axes[i].set_ylabel('PC2')\n",
    "\n",
    "    \n",
    "\n",
    "# Mostrando o gráfico\n",
    "plt.tight_layout()\n",
    "plt.show()    \n",
    "    "
   ]
  }
 ],
 "metadata": {
  "kernelspec": {
   "display_name": "Python 3",
   "language": "python",
   "name": "python3"
  },
  "language_info": {
   "codemirror_mode": {
    "name": "ipython",
    "version": 3
   },
   "file_extension": ".py",
   "mimetype": "text/x-python",
   "name": "python",
   "nbconvert_exporter": "python",
   "pygments_lexer": "ipython3",
   "version": "3.11.3"
  }
 },
 "nbformat": 4,
 "nbformat_minor": 2
}
